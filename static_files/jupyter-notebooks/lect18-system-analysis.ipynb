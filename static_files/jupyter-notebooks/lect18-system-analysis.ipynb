{
  "cells": [
    {
      "cell_type": "markdown",
      "metadata": {},
      "source": [
        "# <font color='green'>System Analysis</font>\n",
        "<div class=\"alert alert-block alert-warning\">\n",
        "<b>\n",
        "University of Tehran<br>\n",
        "Spring 2024<br>\n",
        "Course: Performance Evaluation of Computer Systems<br>\n",
        "Instructor: Dr. Ahmad Khonsari<br>\n",
        "</div>"
      ]
    },
    {
      "cell_type": "markdown",
      "metadata": {
        "id": "ryAAlJ9gLYa7"
      },
      "source": [
        "slide 2\n",
        "\n",
        "# Synopsis of Systems\n",
        "\n",
        "## Lecture Notes\n",
        "\n",
        "### Open Models\n",
        "\n",
        "One of the first tasks in performance modeling is deciding how jobs arrive at the system.\n",
        "In an open model, jobs arrive at the system at some rate that is independent of system state, and leave when they are done — as illustrated in the Fig.\n",
        "\n",
        "\n",
        "<center>\n",
        "<img width=\"300\" src=\"https://lh3.googleusercontent.com/u/0/drive-viewer/AKGpihYIH-_ui5GYRDMwbSLNxNRxzURPg8s5QuPT15YJ2ZhG2vKvQrYVz1eAAE-A5AHk_9mznPsU5uEFSKfePWWQCLtI3nb7pnG3f84=w1592-h778\"  alt=\"Displaying 1.jpg\" aria-hidden=\"true\">\n",
        "</center>\n",
        "\n",
        "The input parameter to the model is the arrival rate λ, and performance measures (that are functions of λ) to be determined by the model are:\n",
        "- Average number of jobs in the system \\( N(λ) \\)\n",
        "- Average time in the system \\( T(λ) \\)\n",
        "- Utilization, etc.\n",
        "\n",
        "Note that, in steady state, the throughput \\( X \\) would just be \\( λ \\).\n",
        "\n",
        "#### Open model: jobs arrive independently of system state. Performance measures are functions of \\( λ \\).\n",
        "---\n",
        "\n",
        "## Code Example\n",
        "\n",
        "In this section, we will use Python to illustrate some of the performance measures mentioned in the lecture. We will simulate an open model system using a simple queueing model and calculate the average number of jobs in the system \\( N(λ) \\) and the average time in the system \\( T(λ) \\).\n",
        "\n"
      ]
    },
    {
      "cell_type": "code",
      "execution_count": null,
      "metadata": {
        "id": "Pz4tq7CYZ04E"
      },
      "outputs": [],
      "source": [
        "path='img/1.jpg'"
      ]
    },
    {
      "cell_type": "code",
      "execution_count": 7,
      "metadata": {
        "colab": {
          "base_uri": "https://localhost:8080/"
        },
        "id": "ZKQBXAN1LV1L",
        "outputId": "fe9de9bf-8b0e-4ab7-aa0b-79fc8d0c388b"
      },
      "outputs": [
        {
          "name": "stdout",
          "output_type": "stream",
          "text": [
            "Average number of jobs in the system: 2.0\n",
            "Average time in the system: 0.2\n",
            "System utilization: 0.6666666666666666\n",
            "Throughput: 10\n"
          ]
        }
      ],
      "source": [
        "class OpenModel:\n",
        "    def __init__(self, arrival_rate, service_rate):\n",
        "        self.arrival_rate = arrival_rate  # λ\n",
        "        self.service_rate = service_rate  # μ\n",
        "\n",
        "    def avg_num_jobs(self):\n",
        "        # N(λ) = λ / (μ - λ)\n",
        "        return self.arrival_rate / (self.service_rate - self.arrival_rate)\n",
        "\n",
        "    def avg_time_in_system(self):\n",
        "        # T(λ) = 1 / (μ - λ)\n",
        "        return 1 / (self.service_rate - self.arrival_rate)\n",
        "\n",
        "    def utilization(self):\n",
        "        # ρ = λ / μ\n",
        "        return self.arrival_rate / self.service_rate\n",
        "\n",
        "    def throughput(self):\n",
        "        # X = λ\n",
        "        return self.arrival_rate\n",
        "\n",
        "# Example usage:\n",
        "model = OpenModel(arrival_rate=10, service_rate=15)\n",
        "print(\"Average number of jobs in the system:\", model.avg_num_jobs())\n",
        "print(\"Average time in the system:\", model.avg_time_in_system())\n",
        "print(\"System utilization:\", model.utilization())\n",
        "print(\"Throughput:\", model.throughput())\n"
      ]
    },
    {
      "cell_type": "markdown",
      "metadata": {
        "id": "N0rzjZRjLXU_"
      },
      "source": [
        "slide 3\n",
        "\n",
        "# Synopsis of Systems\n",
        "\n",
        "## Lecture Notes\n",
        "\n",
        "### Closed Models\n",
        "\n",
        "In a closed model, the system has \\( N \\) jobs, and every completed job is immediately replaced by a new job, as illustrated in the Fig. The input parameter \\( N \\) (sometimes called population size) is thus constant.\n",
        "\n",
        "<center>\n",
        "<img width=\"300\" src=\"https://lh3.google.com/u/0/d/17BrpEXTpzyRlr4ZnXJXG_w61e857ac2H=w1592-h778-iv1\"  alt=\"Displaying 1.jpg\" aria-hidden=\"true\">\n",
        "</center>\n",
        "\n",
        "The performance measures (that are functions of \\( N \\)) to be determined are:\n",
        "- Throughput \\( X(N) \\)\n",
        "- Average time in the system \\( T(N) \\)\n",
        "- Utilization, etc.\n",
        "\n",
        "#### Closed model: a completing job is immediately replaced by an arriving job. Performance measures are functions of population \\( N \\).\n",
        "\n",
        "---\n",
        "\n",
        "## Code Example\n",
        "\n",
        "In this section, we will use Python to simulate a closed model system and calculate the performance measures mentioned in the lecture. We will use a simple queueing model to simulate and calculate the average number of jobs in the system \\( N \\) and the average time in the system \\( T(N) \\).\n"
      ]
    },
    {
      "cell_type": "code",
      "execution_count": 8,
      "metadata": {
        "colab": {
          "base_uri": "https://localhost:8080/"
        },
        "id": "dMTMz9UgMrWo",
        "outputId": "764848da-aec8-4874-ffa8-00294330131f"
      },
      "outputs": [
        {
          "name": "stdout",
          "output_type": "stream",
          "text": [
            "Throughput: 150.0\n",
            "Average time in the system: 0.06666666666666667\n",
            "System utilization: 10.0\n"
          ]
        }
      ],
      "source": [
        "class ClosedModel:\n",
        "    def __init__(self, num_jobs, service_rate):\n",
        "        self.num_jobs = num_jobs  # N\n",
        "        self.service_rate = service_rate  # μ\n",
        "\n",
        "    def throughput(self):\n",
        "        # X(N) = N / T(N)\n",
        "        return self.num_jobs / self.avg_time_in_system()\n",
        "\n",
        "    def avg_time_in_system(self):\n",
        "        # T(N) = 1 / μ\n",
        "        return 1 / self.service_rate\n",
        "\n",
        "    def utilization(self):\n",
        "        # ρ = X(N) / μ\n",
        "        return self.throughput() / self.service_rate\n",
        "\n",
        "# Example usage:\n",
        "model = ClosedModel(num_jobs=10, service_rate=15)\n",
        "print(\"Throughput:\", model.throughput())\n",
        "print(\"Average time in the system:\", model.avg_time_in_system())\n",
        "print(\"System utilization:\", model.utilization())\n"
      ]
    },
    {
      "cell_type": "markdown",
      "metadata": {
        "id": "1ZopfhMoLnJ4"
      },
      "source": [
        "slide 4 , 5\n",
        "\n",
        "\n",
        "# Synopsis of Systems\n",
        "\n",
        "## Lecture Notes\n",
        "\n",
        "### Interactive Models and Input Parameters\n",
        "\n",
        "The input parameters are the number of users \\( N \\) — a constant in a closed system — and a think time \\( Z \\) specified either as an average or with a density distribution (e.g., exponential).\n",
        "\n",
        "The central metric would be the average response time. Other performance measures include throughput and utilization. Think time is sometimes referred to as sleep time. However, it may be useful to give them different meanings.\n",
        "\n",
        "For example, consider a closed model for the web surfing behavior of a fixed number of users. In each surfing session, a user may click one hyperlink after another:\n",
        "- **Think time**: the time between the completion of a download and the next click\n",
        "- **Sleep time**: the time between the completion of a session and the next session\n",
        "\n",
        "#### Interactive model: each job is generated by a user, with a think time between a completed job and a new job. Response time is the time a job spends in the box labeled “system.”\n",
        "\n",
        "---\n",
        "\n",
        "## Code Example\n",
        "\n",
        "In this section, we will use Python to simulate an interactive model system, considering both think time and sleep time, and calculate the response times along with other performance measures. We will use a simple queueing model to simulate and calculate the average number of jobs in the system \\( N \\), average response time \\( T(N) \\), throughput \\( X(N) \\), and utilization.\n",
        "\n",
        "\n",
        "\n",
        "\n",
        "<center>\n",
        "<img width=\"300\" src=\"https://lh3.google.com/u/0/d/1zmd-dl5p25uSLDub0tvCGqzvKnEHA2fN=w1860-h1548-iv1\"  alt=\"Displaying 1.jpg\" aria-hidden=\"true\">\n",
        "</center>\n",
        "\n",
        "#### Interactive model: each job is generated by a user, with a think time between a completed job and a new job. Response time is the time a job spends in the box labeled “system.”\n",
        "\n",
        "---\n",
        "\n",
        "## Code Example\n",
        "\n",
        "In this section, we will use Python to simulate an interactive model system and calculate the response times, which are crucial for human users, along with other performance measures. We will consider the think time between jobs as part of the model.\n"
      ]
    },
    {
      "cell_type": "code",
      "execution_count": 9,
      "metadata": {
        "colab": {
          "base_uri": "https://localhost:8080/"
        },
        "id": "9QfR0E0FgzXy",
        "outputId": "80fb0dbf-d200-43cc-ceec-0594ef5e30c6"
      },
      "outputs": [
        {
          "name": "stdout",
          "output_type": "stream",
          "text": [
            "Response time: 5.066666666666666\n"
          ]
        }
      ],
      "source": [
        "class InteractiveModel:\n",
        "    def __init__(self, num_users, service_rate, think_time):\n",
        "        self.num_users = num_users  # N\n",
        "        self.service_rate = service_rate  # μ\n",
        "        self.think_time = think_time  # Z\n",
        "\n",
        "    def response_time(self):\n",
        "        # R(N) = 1 / μ + Z\n",
        "        return 1 / self.service_rate + self.think_time\n",
        "\n",
        "# Example usage:\n",
        "model = InteractiveModel(num_users=10, service_rate=15, think_time=5)\n",
        "print(\"Response time:\", model.response_time())\n"
      ]
    },
    {
      "cell_type": "code",
      "execution_count": 10,
      "metadata": {
        "colab": {
          "base_uri": "https://localhost:8080/"
        },
        "id": "gtsTpYvae43E",
        "outputId": "5dbe97ca-ffe0-4a34-b367-90394d62f25a"
      },
      "outputs": [
        {
          "name": "stdout",
          "output_type": "stream",
          "text": [
            "Response time: 7.066666666666666\n",
            "Throughput: 0.8287292817679558\n",
            "System utilization: 0.055248618784530384\n"
          ]
        }
      ],
      "source": [
        "class InteractiveModel:\n",
        "    def __init__(self, num_users, service_rate, think_time, sleep_time):\n",
        "        self.num_users = num_users  # N\n",
        "        self.service_rate = service_rate  # μ\n",
        "        self.think_time = think_time  # Z\n",
        "        self.sleep_time = sleep_time  # S\n",
        "\n",
        "    def response_time(self):\n",
        "        # R(N) = 1 / μ + Z + S\n",
        "        return 1 / self.service_rate + self.think_time + self.sleep_time\n",
        "\n",
        "    def throughput(self):\n",
        "        # X(N) = N / (R(N) + Z)\n",
        "        return self.num_users / (self.response_time() + self.think_time)\n",
        "\n",
        "    def utilization(self):\n",
        "        # ρ = X(N) / μ\n",
        "        return self.throughput() / self.service_rate\n",
        "\n",
        "# Example usage:\n",
        "model = InteractiveModel(num_users=10, service_rate=15, think_time=5, sleep_time=2)\n",
        "print(\"Response time:\", model.response_time())\n",
        "print(\"Throughput:\", model.throughput())\n",
        "print(\"System utilization:\", model.utilization())\n"
      ]
    },
    {
      "cell_type": "markdown",
      "metadata": {
        "id": "BC9V58QypJKq"
      },
      "source": [
        "slide 8\n",
        "\n",
        "## Lecture Notes\n",
        "\n",
        "### queueing network\n",
        "\n",
        "a queueing networkis made up for servers\n",
        "\n",
        "\n",
        "<center>\n",
        "<img width=\"300\" src=\"https://lh3.google.com/u/0/d/1tUDdXJi_--7W9PaAOrkDU-htpeCx9C6P=w1860-h1548-iv1\"  alt=\"Displaying 1.jpg\" aria-hidden=\"true\">\n",
        "</center>\n",
        "\n"
      ]
    },
    {
      "cell_type": "markdown",
      "metadata": {
        "id": "lUQ_aSsyjTw3"
      },
      "source": [
        "slide 9\n",
        "\n",
        "\n",
        "# Synopsis of Systems\n",
        "\n",
        "## Lecture Notes\n",
        "\n",
        "\n",
        "# Single Server Queue - FCFS\n",
        "\n",
        "In a single-server network, there are several parameters to consider:\n",
        "\n",
        "1. **Service Order**: This is the order in which jobs will be served by the server. Unless otherwise stated, we assume First-Come-First-Served (FCFS).\n",
        "\n",
        "2. **Average Arrival Rate (λ)**: This is the average rate at which jobs arrive to the server. For example, λ could be 3 jobs/sec.\n",
        "\n",
        "3. **Mean Interarrival Time**: This is the average time between successive job arrivals. It can be calculated as 1/λ. For example, if λ = 3 jobs/sec, then the mean interarrival time would be 1/3 sec.\n",
        "\n",
        "4. **Size (Service Requirement)**: The \"size\" of a job is a random variable S. This is the time it would take the job to run on this server if there were no other jobs around (no queueing). In a queueing model, the size (also known as service requirement) is typically associated with the server. For example, this job will take 5 seconds on this server.\n"
      ]
    },
    {
      "cell_type": "code",
      "execution_count": 15,
      "metadata": {
        "colab": {
          "base_uri": "https://localhost:8080/"
        },
        "id": "7vHPQ7xAkVhB",
        "outputId": "eebb68af-0221-4c9f-c6c3-3c792cfcbc71"
      },
      "outputs": [
        {
          "name": "stdout",
          "output_type": "stream",
          "text": [
            "Number of jobs left in the queue: 6\n"
          ]
        }
      ],
      "source": [
        "import queue\n",
        "import random\n",
        "\n",
        "# Parameters\n",
        "lambda_ = 3  # average arrival rate\n",
        "mu = 5  # service requirement or job size\n",
        "mean_interarrival_time = 1/lambda_\n",
        "\n",
        "# Initialize queue\n",
        "q = queue.Queue()\n",
        "\n",
        "# Simulate for 100 time units\n",
        "for t in range(100):\n",
        "    # Generate a new job with probability 1/mean_interarrival_time\n",
        "    if random.random() < 1/mean_interarrival_time:\n",
        "        q.put(t)\n",
        "\n",
        "    # If there is a job in the queue and it's service requirement has been met\n",
        "    if not q.empty() and t - q.queue[0] > mu:\n",
        "        q.get()\n",
        "\n",
        "# Print number of jobs left in the queue\n",
        "print(f\"Number of jobs left in the queue: {q.qsize()}\")\n"
      ]
    },
    {
      "cell_type": "markdown",
      "metadata": {
        "id": "5VVeyU1hk40O"
      },
      "source": [
        "slide 10 & 11\n",
        "\n",
        "# Single Server Queue - FCFS\n",
        "\n",
        "In a single-server network, there are several parameters to consider:\n",
        "\n",
        "1. **Mean Service Time (E[S])**: This is the expected value of S, namely the average time required to service a job on this CPU, where “service” does not include queueing time. For example, E[S] could be 1/4 sec.\n",
        "\n",
        "2. **Average Service Rate (μ)**: This is the average rate at which jobs are served. It can be calculated as 1/E[S]. For example, if E[S] = 1/4 sec, then μ would be 4 jobs/sec.\n",
        "\n",
        "3. **Average Arrival Rate (λ)**: This is the average rate at which jobs arrive to the server. For example, λ could be 3 jobs/sec.\n",
        "\n",
        "We also consider the following common performance metrics in the context of a single-server system:\n",
        "\n",
        "1. **Response Time, Turnaround Time, Time in System, or Sojourn Time (T)**: This is calculated as t_depart - t_arrive, where t_depart is the time when the job leaves the system, and t_arrive is the time when the job arrived to the system.\n",
        "\n",
        "We are interested in the following:\n",
        "\n",
        "- E[T]: the mean response time\n",
        "- Var(T): the variance in response time\n",
        "- P{T > t}: the tail behavior of T\n",
        "\n",
        "\n",
        "\n",
        "<center>\n",
        "<img width=\"300\" src=\"https://lh3.google.com/u/0/d/1tUDdXJi_--7W9PaAOrkDU-htpeCx9C6P=w1860-h1548-iv1\"  alt=\"Displaying 1.jpg\" aria-hidden=\"true\">\n",
        "</center>"
      ]
    },
    {
      "cell_type": "code",
      "execution_count": 29,
      "metadata": {
        "colab": {
          "base_uri": "https://localhost:8080/",
          "height": 589
        },
        "id": "Nk6RCD-sk2Sg",
        "outputId": "68bad298-af1f-41bc-b717-58b5b00a5380"
      },
      "outputs": [
        {
          "name": "stdout",
          "output_type": "stream",
          "text": [
            "Mean response time E[T]: 1.02 seconds\n",
            "Variance in response time Var(T): 1.18 seconds^2\n",
            "P{T > 1.0}: 0.36\n"
          ]
        },
        {
          "data": {
            "image/png": "[encoded data removed]",
            "text/plain": [
              "<Figure size 1000x600 with 1 Axes>"
            ]
          },
          "metadata": {},
          "output_type": "display_data"
        }
      ],
      "source": [
        "\n",
        "import numpy as np\n",
        "import matplotlib.pyplot as plt\n",
        "\n",
        "# Define parameters\n",
        "arrival_rate = 3  # λ (jobs/sec)\n",
        "service_rate = 4  # μ (jobs/sec)\n",
        "mean_service_time = 1 / 4  # E[S]\n",
        "simulation_time = 1000  # Total simulation time in seconds\n",
        "\n",
        "# Initialize state variables\n",
        "arrival_times = np.cumsum(np.random.exponential(1/arrival_rate, int(simulation_time * arrival_rate)))\n",
        "service_times = np.random.exponential(mean_service_time, len(arrival_times))\n",
        "start_times = np.zeros_like(arrival_times)\n",
        "end_times = np.zeros_like(arrival_times)\n",
        "\n",
        "# Simulate the single-server queue (FCFS)\n",
        "for i in range(len(arrival_times)):\n",
        "    if i == 0:\n",
        "        start_times[i] = arrival_times[i]\n",
        "    else:\n",
        "        start_times[i] = max(arrival_times[i], end_times[i-1])\n",
        "    end_times[i] = start_times[i] + service_times[i]\n",
        "\n",
        "# Calculate performance measures\n",
        "response_times = end_times - arrival_times\n",
        "mean_response_time = np.mean(response_times)\n",
        "variance_response_time = np.var(response_times)\n",
        "tail_behavior_threshold = 1.0  # Example threshold for P{T > t}\n",
        "tail_behavior = np.mean(response_times > tail_behavior_threshold)\n",
        "\n",
        "# Print results\n",
        "print(f\"Mean response time E[T]: {mean_response_time:.2f} seconds\")\n",
        "print(f\"Variance in response time Var(T): {variance_response_time:.2f} seconds^2\")\n",
        "print(f\"P{{T > {tail_behavior_threshold}}}: {tail_behavior:.2f}\")\n",
        "\n",
        "# Plot the results\n",
        "plt.figure(figsize=(10, 6))\n",
        "plt.hist(response_times, bins=50, alpha=0.75, label='Response Times')\n",
        "plt.axvline(mean_response_time, color='r', linestyle='dashed', linewidth=2, label=f'Mean E[T]={mean_response_time:.2f}')\n",
        "plt.axvline(tail_behavior_threshold, color='g', linestyle='dashed', linewidth=2, label=f'Threshold T={tail_behavior_threshold}')\n",
        "plt.xlabel('Time (seconds)')\n",
        "plt.ylabel('Frequency')\n",
        "plt.title('Distribution of Response Times in the Single-Server Queue')\n",
        "plt.legend()\n",
        "plt.show()"
      ]
    },
    {
      "cell_type": "markdown",
      "metadata": {
        "id": "W4GCOrY2mbNp"
      },
      "source": [
        "slide 12\n",
        "# Single Server Queue - FCFS\n",
        "\n",
        "## Parameters associated with the single-server network:\n",
        "\n",
        "- **Waiting Time or Delay (TQ)**: This is the time that the job spends in the queue, not being served. It is also called the \"time in queue\" or the \"wasted time.\" Under FCFS service order, waiting time can be defined as the time from when a job arrives to the system until it first receives service. Notice that $$E[T] = E[TQ] + E[S]$$.\n",
        "\n",
        "- **Number of Jobs in the System (N)**: This includes those jobs in the queue, plus the one being served (if any).\n",
        "\n",
        "- **Number of Jobs in Queue (NQ)**: This is only the number of jobs waiting (in queue).\n",
        "\n",
        "## Observations about the single-server network:\n",
        "\n",
        "- As $$\\lambda$$, the mean arrival rate, increases, all the performance metrics mentioned earlier increase (get worse).\n",
        "\n",
        "- As $$\\mu$$, the mean service rate, increases, all the performance metrics mentioned earlier decrease (improve).\n",
        "\n",
        "- We require that $$\\lambda \\leq \\mu$$ (we always assume $$\\lambda < \\mu$$).\n",
        "\n",
        "\n"
      ]
    },
    {
      "cell_type": "code",
      "execution_count": 32,
      "metadata": {
        "colab": {
          "base_uri": "https://localhost:8080/"
        },
        "id": "7qnoLaIwvKIv",
        "outputId": "067fb380-74e4-4927-d48e-7dbc567f9f49"
      },
      "outputs": [
        {
          "name": "stdout",
          "output_type": "stream",
          "text": [
            "The system is unstable. Please ensure that the arrival rate is less than the service rate.\n"
          ]
        }
      ],
      "source": [
        "# Define the parameters\n",
        "lambda_ = 4  # mean arrival rate\n",
        "mu = 3  # mean service rate\n",
        "\n",
        "# Check if lambda < mu\n",
        "if lambda_ >= mu:\n",
        "    print(\"The system is unstable. Please ensure that the arrival rate is less than the service rate.\")\n",
        "else:\n",
        "    # Calculate the performance metrics\n",
        "    rho = lambda_ / mu  # utilization\n",
        "    NQ = rho**2 / (1 - rho)  # avg number of jobs in queue\n",
        "    N = rho + NQ  # avg number of jobs in system\n",
        "    WQ = NQ / lambda_  # avg waiting time in queue\n",
        "    W = N / lambda_  # avg waiting time in system\n",
        "\n",
        "    # Print the results\n",
        "    print(f\"Utilization (rho): {rho}\")\n",
        "    print(f\"Average number of jobs in queue (NQ): {NQ}\")\n",
        "    print(f\"Average number of jobs in system (N): {N}\")\n",
        "    print(f\"Average waiting time in queue (WQ): {WQ}\")\n",
        "    print(f\"Average waiting time in system (W): {W}\")"
      ]
    },
    {
      "cell_type": "code",
      "execution_count": 31,
      "metadata": {
        "colab": {
          "base_uri": "https://localhost:8080/"
        },
        "id": "gc-qbbacu5Im",
        "outputId": "26a75a0b-ed2d-44ea-c559-7e3c2502da2e"
      },
      "outputs": [
        {
          "name": "stdout",
          "output_type": "stream",
          "text": [
            "Utilization (rho): 0.75\n",
            "Average number of jobs in queue (NQ): 2.25\n",
            "Average number of jobs in system (N): 3.0\n",
            "Average waiting time in queue (WQ): 0.75\n",
            "Average waiting time in system (W): 1.0\n"
          ]
        }
      ],
      "source": [
        "import numpy as np\n",
        "\n",
        "# Define the parameters\n",
        "lambda_ = 3  # mean arrival rate\n",
        "mu = 4  # mean service rate\n",
        "\n",
        "# Check if lambda < mu\n",
        "if lambda_ >= mu:\n",
        "    print(\"The system is unstable. Please ensure that the arrival rate is less than the service rate.\")\n",
        "else:\n",
        "    # Calculate the performance metrics\n",
        "    rho = lambda_ / mu  # utilization\n",
        "    NQ = rho**2 / (1 - rho)  # avg number of jobs in queue\n",
        "    N = rho + NQ  # avg number of jobs in system\n",
        "    WQ = NQ / lambda_  # avg waiting time in queue\n",
        "    W = N / lambda_  # avg waiting time in system\n",
        "\n",
        "    # Print the results\n",
        "    print(f\"Utilization (rho): {rho}\")\n",
        "    print(f\"Average number of jobs in queue (NQ): {NQ}\")\n",
        "    print(f\"Average number of jobs in system (N): {N}\")\n",
        "    print(f\"Average waiting time in queue (WQ): {WQ}\")\n",
        "    print(f\"Average waiting time in system (W): {W}\")\n"
      ]
    },
    {
      "cell_type": "markdown",
      "metadata": {
        "id": "aECC3nBCmn0K"
      },
      "source": [
        "Single Server Queue-FCFS\n",
        "Question: If λ > μ what happens?\n",
        "Answer: If λ > μ the queue length goes to infinity over time.\n",
        "Question: Can you provide the intuition?\n",
        "Answer:\n",
        "let N(t): the number of jobs in the system at time t,\n",
        "A(t) : the number of arrivals at time t,\n",
        "D(t): the number of departures at time t,\n",
        "Consider a large time t, then we have:\n",
        "E[N(t)] = E[A(t)] − E[D(t)] ≥ λt − μt = t(λ − μ).\n",
        "(The inequality comes from the fact that the expected number of departures by time t\n",
        "is actually smaller than μt, because the server is not always busy).\n",
        "Now observe that if\n",
        "λ > μ, then t(λ − μ)→∞, as t→∞.\n",
        "Throughout we assume λ < μ, which is needed for stability (keeping queue sizes from\n",
        "growing unboundedly).\n",
        "λ ≥ μ are discussed in Ch 9."
      ]
    },
    {
      "cell_type": "markdown",
      "metadata": {
        "id": "OOgEbk9nnaQo"
      },
      "source": [
        "slide 14&15\n",
        "\n",
        "\n",
        "# Queueing Theory - Deterministic Interarrival and Service Times\n",
        "\n",
        "## Question:\n",
        "Given the previous stability condition (λ < μ), suppose that the interarrival distribution and the service time distribution are Deterministic (i.e., both are constants). What is TQ? What is T?\n",
        "\n",
        "## Answer:\n",
        "TQ = 0, and T = S.\n",
        "\n",
        "Queueing (waiting) results from variability in service time and/or interarrival time distributions.\n",
        "\n",
        "An example of how variability leads to queues:\n",
        "Let’s discretize time.\n",
        "Suppose at each time step, an arrival occurs with probability p = 1/6.\n",
        "Suppose at each time step, a departure occurs with probability q = 1/3.\n",
        "Then there is a non-zero probability that the queue will build up (temporarily) if several arrivals occur without a departure.\n",
        "\n",
        "Classification of Queueing Networks\n",
        "open networks and closed networks.\n",
        "Stochastic processes books usually limit their discussion\n",
        "to open networks.\n",
        "By contrast, the systems performance analysis books almost exclusively discuss closed\n",
        "networks."
      ]
    },
    {
      "cell_type": "code",
      "execution_count": 37,
      "metadata": {
        "colab": {
          "base_uri": "https://localhost:8080/"
        },
        "id": "IjmXc053oBOj",
        "outputId": "6e7eef76-1b33-415e-9838-04cee5429c8c"
      },
      "outputs": [
        {
          "name": "stdout",
          "output_type": "stream",
          "text": [
            "Max Queue Length: 6\n"
          ]
        }
      ],
      "source": [
        "import numpy as np\n",
        "\n",
        "def simulate_queue(p, q, time_steps):\n",
        "    np.random.seed(42)  # For reproducibility\n",
        "    arrivals = np.random.binomial(1, p, time_steps)\n",
        "    departures = np.random.binomial(1, q, time_steps)\n",
        "\n",
        "    queue_length = 0\n",
        "    max_queue_length = 0\n",
        "\n",
        "    for i in range(time_steps):\n",
        "        queue_length += arrivals[i] - departures[i]\n",
        "        if queue_length < 0:\n",
        "            queue_length = 0\n",
        "        if queue_length > max_queue_length:\n",
        "            max_queue_length = queue_length\n",
        "\n",
        "    return max_queue_length\n",
        "\n",
        "# Example usage\n",
        "arrival_probability = 1 / 6\n",
        "departure_probability = 1 / 3\n",
        "simulation_time_steps = 1000\n",
        "\n",
        "max_queue_length = simulate_queue(arrival_probability, departure_probability, simulation_time_steps)\n",
        "print(\"Max Queue Length:\", max_queue_length)\n"
      ]
    },
    {
      "cell_type": "markdown",
      "metadata": {
        "id": "9WL8IMCu0jPK"
      },
      "source": [
        "slide 16&17\n",
        "\n",
        "# Single Server Queue-FCFS\n",
        "\n",
        "An open queueing network has external arrivals and departures. Below are four examples of open networks.\n",
        "\n",
        "## Example 1: The Single-Server System\n",
        "\n",
        "**FCFS (First Come, First Served)**\n",
        "\n",
        "Arriving jobs have a rate of $$\\lambda = 3$$. This is a single-server network.\n",
        "\n",
        "## Example 2: Network of Queues with Probabilistic Routing\n",
        "\n",
        "In this network, server *i* receives external arrivals (\"outside arrivals\") with rate *ri*. Server *i* also receives internal arrivals from some of the other servers. A packet that departs from server *i* is next routed to server *j* with probability *pij*.\n",
        "\n",
        "The probabilities may depend on the \"class\" of the packet, so not all packets have to follow the same routing scheme.\n",
        "\n",
        "### Application\n",
        "\n",
        "This model can be used for example in modeling packet flows in the Internet: the class of the packet (and hence its route) depends on its source and destination IP addresses.\n",
        "\n",
        "It can also be used in modeling delays: the transmission time of a wire equals a server with some latency. We would like to calculate the mean round-trip times for packets on a particular route, given the presence of the other packets.\n",
        "\n",
        "This is a network of queues with probabilistic routing.\n",
        "\n",
        "\n",
        "<center>\n",
        "<img width=\"300\" src=\"https://lh3.google.com/u/0/d/1IqDRC6O4FiBHwPc3HmAlw3WGaU-rk2XY=w1860-h1548-iv1\"  alt=\"Displaying 1.jpg\" aria-hidden=\"true\">\n",
        "</center>\n",
        "\n"
      ]
    },
    {
      "cell_type": "code",
      "execution_count": 2,
      "metadata": {
        "colab": {
          "base_uri": "https://localhost:8080/"
        },
        "id": "c628Vf8J0i6Z",
        "outputId": "ffab7137-4203-4273-f507-b8870dd3166f"
      },
      "outputs": [
        {
          "name": "stdout",
          "output_type": "stream",
          "text": [
            "Processing job: Job 1\n",
            "Processing job: Job 2\n",
            "Processing job: Job 3\n",
            "Processing job: Job 4\n",
            "Processing job: Job 5\n",
            "Processing job: Job 6\n",
            "Processing job: Job 7\n",
            "Processing job: Job 8\n",
            "Processing job: Job 9\n",
            "Processing job: Job 10\n",
            "Processing job: Packet 7\n",
            "Processing job: Packet 10\n",
            "Processing job: Packet 2\n",
            "Processing job: Packet 3\n",
            "Processing job: Packet 4\n",
            "Processing job: Packet 5\n",
            "Processing job: Packet 6\n",
            "Processing job: Packet 9\n",
            "Processing job: Packet 1\n",
            "Processing job: Packet 8\n"
          ]
        }
      ],
      "source": [
        "import queue\n",
        "import random\n",
        "\n",
        "# Example 1: Single-Server Queue System\n",
        "class Server:\n",
        "    def __init__(self, arrival_rate):\n",
        "        self.queue = queue.Queue()\n",
        "        self.arrival_rate = arrival_rate\n",
        "\n",
        "    def add_job(self, job):\n",
        "        self.queue.put(job)\n",
        "\n",
        "    def process_jobs(self):\n",
        "        while not self.queue.empty():\n",
        "            job = self.queue.get()\n",
        "            print(f\"Processing job: {job}\")\n",
        "\n",
        "server = Server(arrival_rate=3)\n",
        "for i in range(10):\n",
        "    server.add_job(f\"Job {i+1}\")\n",
        "server.process_jobs()\n",
        "\n",
        "# Example 2: Network of Queues with Probabilistic Routing\n",
        "class Network:\n",
        "    def __init__(self, num_servers, arrival_rates, routing_matrix):\n",
        "        self.servers = [Server(arrival_rate) for arrival_rate in arrival_rates]\n",
        "        self.routing_matrix = routing_matrix\n",
        "\n",
        "    def route_packet(self, packet, current_server):\n",
        "        probabilities = self.routing_matrix[current_server]\n",
        "        next_server = random.choices(range(len(self.servers)), weights=probabilities)[0]\n",
        "        self.servers[next_server].add_job(packet)\n",
        "\n",
        "network = Network(num_servers=3, arrival_rates=[3, 2, 1], routing_matrix=[[0.1, 0.6, 0.3], [0.3, 0.1, 0.6], [0.6, 0.3, 0.1]])\n",
        "for i in range(10):\n",
        "    network.route_packet(f\"Packet {i+1}\", current_server=0)\n",
        "for server in network.servers:\n",
        "    server.process_jobs()\n"
      ]
    },
    {
      "cell_type": "markdown",
      "metadata": {
        "id": "spHCXkL2-PjU"
      },
      "source": [
        "slide 18\n",
        "\n",
        "# Example 3: Network of Queues with Non-Probabilistic Routing\n",
        "\n",
        "In this network, all jobs follow a predetermined route:\n",
        "\n",
        "**CPU -> Disk 1 -> Disk 2 -> Disk 1 -> Disk 2 -> Disk 1 -> Out**\n",
        "\n",
        "This is a network of queues with non-probabilistic routing.\n",
        "\n",
        "<center>\n",
        "<img width=\"300\" src=\"https://lh3.google.com/u/0/d/10JrzXS1RnievUz9iGjf4dotLu8RYJN12=w3000-h6492-iv1\"  alt=\"Displaying 1.jpg\" aria-hidden=\"true\">\n",
        "</center>"
      ]
    },
    {
      "cell_type": "code",
      "execution_count": 3,
      "metadata": {
        "colab": {
          "base_uri": "https://localhost:8080/"
        },
        "id": "ll8vXsri3see",
        "outputId": "ae9128d9-8061-4277-caa2-846a701e75f1"
      },
      "outputs": [
        {
          "name": "stdout",
          "output_type": "stream",
          "text": [
            "Job Job 1 added to CPU\n",
            "Job Job 2 added to CPU\n",
            "Job Job 3 added to CPU\n",
            "Job Job 4 added to CPU\n",
            "Job Job 5 added to CPU\n",
            "Processing job Job 1 in CPU\n",
            "Job Job 1 added to Disk 1\n",
            "Processing job Job 1 in Disk 1\n",
            "Job Job 1 added to Disk 2\n",
            "Processing job Job 1 in Disk 2\n",
            "Job Job 1 added to Disk 1\n",
            "Processing job Job 1 in Disk 1\n",
            "Job Job 1 added to Disk 2\n",
            "Processing job Job 1 in Disk 2\n",
            "Job Job 1 added to Disk 1\n",
            "Job Job 1 completed\n",
            "Processing job Job 2 in CPU\n",
            "Job Job 2 added to Disk 1\n",
            "Processing job Job 1 in Disk 1\n",
            "Job Job 1 added to Disk 2\n",
            "Processing job Job 1 in Disk 2\n",
            "Job Job 1 added to Disk 1\n",
            "Processing job Job 2 in Disk 1\n",
            "Job Job 2 added to Disk 2\n",
            "Processing job Job 2 in Disk 2\n",
            "Job Job 2 added to Disk 1\n",
            "Job Job 2 completed\n",
            "Processing job Job 3 in CPU\n",
            "Job Job 3 added to Disk 1\n",
            "Processing job Job 1 in Disk 1\n",
            "Job Job 1 added to Disk 2\n",
            "Processing job Job 1 in Disk 2\n",
            "Job Job 1 added to Disk 1\n",
            "Processing job Job 2 in Disk 1\n",
            "Job Job 2 added to Disk 2\n",
            "Processing job Job 2 in Disk 2\n",
            "Job Job 2 added to Disk 1\n",
            "Job Job 2 completed\n",
            "Processing job Job 4 in CPU\n",
            "Job Job 4 added to Disk 1\n",
            "Processing job Job 3 in Disk 1\n",
            "Job Job 3 added to Disk 2\n",
            "Processing job Job 3 in Disk 2\n",
            "Job Job 3 added to Disk 1\n",
            "Processing job Job 1 in Disk 1\n",
            "Job Job 1 added to Disk 2\n",
            "Processing job Job 1 in Disk 2\n",
            "Job Job 1 added to Disk 1\n",
            "Job Job 1 completed\n",
            "Processing job Job 5 in CPU\n",
            "Job Job 5 added to Disk 1\n",
            "Processing job Job 2 in Disk 1\n",
            "Job Job 2 added to Disk 2\n",
            "Processing job Job 2 in Disk 2\n",
            "Job Job 2 added to Disk 1\n",
            "Processing job Job 4 in Disk 1\n",
            "Job Job 4 added to Disk 2\n",
            "Processing job Job 4 in Disk 2\n",
            "Job Job 4 added to Disk 1\n",
            "Job Job 4 completed\n"
          ]
        }
      ],
      "source": [
        "class Server:\n",
        "    def __init__(self, name):\n",
        "        self.name = name\n",
        "        self.queue = queue.Queue()\n",
        "\n",
        "    def add_job(self, job):\n",
        "        self.queue.put(job)\n",
        "        print(f\"Job {job} added to {self.name}\")\n",
        "\n",
        "    def process_job(self):\n",
        "        if not self.queue.empty():\n",
        "            job = self.queue.get()\n",
        "            print(f\"Processing job {job} in {self.name}\")\n",
        "            return job\n",
        "        else:\n",
        "            return None\n",
        "\n",
        "# Create the servers\n",
        "cpu = Server(\"CPU\")\n",
        "disk1 = Server(\"Disk 1\")\n",
        "disk2 = Server(\"Disk 2\")\n",
        "\n",
        "# Add jobs to CPU\n",
        "for i in range(5):\n",
        "    cpu.add_job(f\"Job {i+1}\")\n",
        "\n",
        "# Process jobs in predetermined route\n",
        "while True:\n",
        "    job = cpu.process_job()\n",
        "    if job is None:\n",
        "        break\n",
        "    disk1.add_job(job)\n",
        "    job = disk1.process_job()\n",
        "    disk2.add_job(job)\n",
        "    job = disk2.process_job()\n",
        "    disk1.add_job(job)\n",
        "    job = disk1.process_job()\n",
        "    disk2.add_job(job)\n",
        "    job = disk2.process_job()\n",
        "    disk1.add_job(job)\n",
        "    print(f\"Job {job} completed\")\n"
      ]
    },
    {
      "cell_type": "markdown",
      "metadata": {
        "id": "HmZ52koa3mFz"
      },
      "source": [
        "slide 19\n",
        "\n",
        "Example4: Finite Buffer\n",
        "An example of a single-server network with finite buffer is shown in the Figure. Any\n",
        "arrival that finds no room is dropped.\n",
        "Network of queues with non-probabilistic routing.\n",
        "\n",
        "\n",
        "<center>\n",
        "<img width=\"300\" src=\"https://lh3.googleusercontent.com/u/0/drive-viewer/AKGpihZT7Edf6Tg5OZs-r4IFdkocK0Bmow9DWijgzA-NYZKbWYkUwdKbgJaCgliL5AgL5K7V767N7yTCSufD9XESZyZfCBkYFBtqRsI=w1860-h1580-rw-v1\"  alt=\"Displaying 1.jpg\" aria-hidden=\"true\">\n",
        "</center>"
      ]
    },
    {
      "cell_type": "code",
      "execution_count": 14,
      "metadata": {
        "colab": {
          "base_uri": "https://localhost:8080/"
        },
        "id": "VnL4kOmX5NPq",
        "outputId": "a976f587-55df-44ee-ee09-1f2aa8b84b22"
      },
      "outputs": [
        {
          "name": "stdout",
          "output_type": "stream",
          "text": [
            "Number of dropped jobs: 90\n"
          ]
        }
      ],
      "source": [
        "# Define the buffer capacity and service rate\n",
        "buffer_capacity = 9\n",
        "μ =4\n",
        "service_rate = μ\n",
        "λ=3\n",
        "simulation_time=100\n",
        "\n",
        "class FiniteBuffer:\n",
        "    def __init__(self, buffer_capacity, arrival_rate, service_rate):\n",
        "        self.buffer_capacity = buffer_capacity\n",
        "        self.arrival_rate = arrival_rate\n",
        "        self.service_rate = service_rate\n",
        "        self.buffer = []\n",
        "        self.in_service = None\n",
        "        self.dropped_jobs = 0\n",
        "\n",
        "    def job_arrival(self):\n",
        "        if len(self.buffer) < self.buffer_capacity:\n",
        "            self.buffer.append('job')\n",
        "        else:\n",
        "            self.dropped_jobs += 1\n",
        "\n",
        "    def job_service(self):\n",
        "        if self.in_service is None and self.buffer:\n",
        "            self.in_service = self.buffer.pop(0)\n",
        "\n",
        "    def simulate(self, simulation_time):\n",
        "        for _ in range(simulation_time):\n",
        "            self.job_arrival()\n",
        "            self.job_service()\n",
        "\n",
        "        print(f'Number of dropped jobs: {self.dropped_jobs}')\n",
        "\n",
        "# Initialize a finite buffer system\n",
        "buffer_system = FiniteBuffer(buffer_capacity=9, arrival_rate=λ, service_rate=μ)\n",
        "\n",
        "# Run the simulation for a certain time\n",
        "buffer_system.simulate(simulation_time)\n",
        "\n"
      ]
    },
    {
      "cell_type": "markdown",
      "metadata": {
        "id": "PHAwFf0k7L4U"
      },
      "source": [
        "slide 20\n",
        "\n",
        "# Performance Metrics\n",
        "\n",
        "We have four performance metrics that can be used to describe the performance of a multi-server, multi-queue system:\n",
        "\n",
        "1. **E[N]**: The expected number of jobs in the system (both in queue and in service).\n",
        "2. **E[T]**: The expected time a job spends in the whole system, including all time spent in various queues and time spent receiving service at various servers.\n",
        "3. **E[NQ]**: The expected number of jobs in the queue.\n",
        "4. **E[TQ]**: The expected time a job spends waiting in the queue (also known as the \"wasted\" time).\n",
        "\n",
        "In a multi-server system, we use index `i` to denote the `i`th queue. For example, **E[Ni]** represents the expected number of jobs both queueing and in service at server `i`, and **E[Ti]** represents the expected time a job spends queueing and in service at server `i`.\n"
      ]
    },
    {
      "cell_type": "markdown",
      "metadata": {
        "id": "9xl801Dq78RB"
      },
      "source": [
        "slide 21\n",
        "\n",
        "# More Metrics: Utilization and Throughput\n",
        "\n",
        "**Device Utilization (ρi)** is the fraction of time device `i` is busy. This definition of utilization applies only to a single device (server). When the device is implied, we simply write ρ (omitting the subscript).\n",
        "\n",
        "Suppose we watch a device `i` for a long period of time. Let:\n",
        "- **τ**: the length of the observation period.\n",
        "- **B**: the total time during the observation period that the device is non-idle (busy).\n",
        "\n",
        "Then, the device utilization is given by:\n",
        "\n",
        "\n",
        "$ρi = \\frac{B}{τ}$\n"
      ]
    },
    {
      "cell_type": "code",
      "execution_count": 21,
      "metadata": {
        "colab": {
          "base_uri": "https://localhost:8080/"
        },
        "id": "oI1_LYlv8IK4",
        "outputId": "66b837bf-382e-413e-f5bb-699f13ab954a"
      },
      "outputs": [
        {
          "name": "stdout",
          "output_type": "stream",
          "text": [
            "Device Utilization: 0.5\n"
          ]
        }
      ],
      "source": [
        "class Device:\n",
        "    def __init__(self):\n",
        "        self.busy_time = 0\n",
        "        self.total_time = 0\n",
        "\n",
        "    def start_busy_period(self, duration):\n",
        "        self.busy_time += duration\n",
        "\n",
        "    def increment_total_time(self, increment):\n",
        "        self.total_time += increment\n",
        "\n",
        "    def calculate_utilization(self):\n",
        "        return self.busy_time / self.total_time if self.total_time > 0 else 0\n",
        "\n",
        "# Initialize a device\n",
        "device = Device()\n",
        "busy_duration=10\n",
        "total_duration=20\n",
        "# Simulate a busy period and total time\n",
        "device.start_busy_period(busy_duration)\n",
        "device.increment_total_time(total_duration)\n",
        "\n",
        "# Calculate and print the device utilization\n",
        "utilization = device.calculate_utilization()\n",
        "print(f'Device Utilization: {utilization}')\n"
      ]
    },
    {
      "cell_type": "markdown",
      "metadata": {
        "id": "UGWivOp2-tYH"
      },
      "source": [
        "slide 22\n",
        "\n",
        "# More Metrics: Throughput and Utilization\n",
        "\n",
        "**Throughput** is a widely used performance metric. It's the rate at which a system can process jobs. Higher throughput is generally desirable as it means the system can handle more jobs in a given time period.\n",
        "\n",
        "The relationship between maximizing throughput and minimizing response time can be complex. In general, a system with higher throughput can process more jobs in a given time, which could lead to lower response times. However, this isn't always the case. For example, if a system is optimized for throughput, it might process jobs in large batches, which could increase the response time for individual jobs. The specific relationship between throughput and response time can depend on many factors, including the system's architecture and workload.\n",
        "\n",
        "As for the question about which system has higher throughput in the figure, it's hard to say without seeing the figure. But we can compare the throughput of two systems using the given arrival rates (λ) and service rates (μ).\n",
        "\n",
        "<center>\n",
        "<img width=\"300\" src=\"https://lh3.google.com/u/0/d/193DBtPFISja3f02vvV6-oEmh1sbAq_9j=w2720-h1580-iv1\"  alt=\"Displaying 1.jpg\" aria-hidden=\"true\">\n",
        "</center>\n",
        "\n",
        "Let's consider two systems:\n",
        "\n",
        "1. System 1: λ = 1/6, μ = 1/3\n",
        "2. System 2: λ = 1/6, μ = 1/5\n",
        "\n",
        "The throughput of a system is generally determined by the minimum of the arrival rate (λ) and the service rate (μ). So, for both systems, the throughput would be λ = 1/6, since the arrival rate is the limiting factor.\n",
        "\n",
        "However, the utilization of the systems, which is the ratio of the arrival rate to the service rate (ρ = λ/μ), would be different. For System 1, the utilization would be (1/6) / (1/3) = 0.5, and for System 2, the utilization would be (1/6) / (1/5) = 0.833. This means System 2 is busier compared to System 1.\n"
      ]
    },
    {
      "cell_type": "code",
      "execution_count": 22,
      "metadata": {
        "colab": {
          "base_uri": "https://localhost:8080/"
        },
        "id": "dMv0fjfh-1jP",
        "outputId": "e6b4b109-9f29-46a2-bc94-ac15ac8c95c8"
      },
      "outputs": [
        {
          "name": "stdout",
          "output_type": "stream",
          "text": [
            "System 1 - Throughput: 0.16666666666666666, Utilization: 0.5\n",
            "System 2 - Throughput: 0.16666666666666666, Utilization: 0.8333333333333333\n"
          ]
        }
      ],
      "source": [
        "class System:\n",
        "    def __init__(self, arrival_rate, service_rate):\n",
        "        self.arrival_rate = arrival_rate\n",
        "        self.service_rate = service_rate\n",
        "\n",
        "    def calculate_throughput(self):\n",
        "        return min(self.arrival_rate, self.service_rate)\n",
        "\n",
        "    def calculate_utilization(self):\n",
        "        return self.arrival_rate / self.service_rate if self.service_rate > 0 else 0\n",
        "\n",
        "# Initialize two systems\n",
        "system1 = System(arrival_rate=1/6, service_rate=1/3)\n",
        "system2 = System(arrival_rate=1/6, service_rate=1/5)\n",
        "\n",
        "# Calculate and print the throughput and utilization for both systems\n",
        "for i, system in enumerate([system1, system2], start=1):\n",
        "    throughput = system.calculate_throughput()\n",
        "    utilization = system.calculate_utilization()\n",
        "    print(f'System {i} - Throughput: {throughput}, Utilization: {utilization}')\n"
      ]
    },
    {
      "cell_type": "markdown",
      "metadata": {
        "id": "BFS3RvjC_ky9"
      },
      "source": [
        "slide 23\n",
        "\n",
        "# More Metrics: Throughput and Utilization\n",
        "\n",
        "Device Throughput ($Xi$): the rate of completions at device i (e.g., jobs/sec). The throughput ($X$) of the system is the rate of job completions in the system.\n",
        "\n",
        "Let $C$ denote the total number of jobs completed at device i during time $\\tau$. Then, $Xi = \\frac{C}{\\tau}$.\n",
        "\n",
        "So how does $Xi$ relate to $\\rho_i$? Well, let's find out.\n",
        "\n",
        "Question: what is $C_B$?\n",
        "Answer: $B_C = \\frac{\\text{total time that device is non−idle during time } \\tau}{\\text{total number of jobs completed during time } \\tau} = E[S]$.\n",
        "\n",
        "So $C_B = \\frac{1}{E[S]} = \\mu_i$\n",
        "\n",
        "So we have: $Xi = \\mu_i \\rho_i$\n"
      ]
    },
    {
      "cell_type": "code",
      "execution_count": 40,
      "metadata": {
        "colab": {
          "base_uri": "https://localhost:8080/"
        },
        "id": "iJ-dXl5v0Vyg",
        "outputId": "4ffe7fdd-d227-4c64-eb76-02581cf6f9e9"
      },
      "outputs": [
        {
          "name": "stdout",
          "output_type": "stream",
          "text": [
            "Throughput (X_i): 0.5\n"
          ]
        }
      ],
      "source": [
        "# Define the parameters\n",
        "mu_i = 1  # mean service rate\n",
        "rho = 0.5  # utilization\n",
        "\n",
        "# Calculate the throughput\n",
        "X_i = mu_i * rho\n",
        "\n",
        "# Print the result\n",
        "print(f\"Throughput (X_i): {X_i}\")\n"
      ]
    },
    {
      "cell_type": "markdown",
      "metadata": {
        "id": "__wJQVlS_7cJ"
      },
      "source": [
        "slide 24\n",
        "\n",
        "# More Metrics: Throughput and Utilization\n",
        "\n",
        "Another way to derive this expression by conditioning:\n",
        "\n",
        "$Xi = \\text{Mean rate of completion at server } i$\n",
        "\n",
        "This can be expressed as:\n",
        "\n",
        "$Xi = E[\\text{Rate of completion at server } i | \\text{server } i \\text{ is busy}] \\cdot P\\{\\text{server } i \\text{ is busy}\\} + E[\\text{Rate of completion at server } i | \\text{server } i \\text{ is idle}] \\cdot P\\{\\text{server } i \\text{ is idle}\\}$\n",
        "\n",
        "Simplifying this gives us:\n",
        "\n",
        "$Xi = \\mu_i \\cdot P\\{\\text{server } i \\text{ is busy}\\} + 0 = \\mu_i \\cdot \\rho_i$\n",
        "\n",
        "Or, equivalently,\n",
        "\n",
        "$\\rho_i = Xi \\cdot E[S]$\n",
        "\n",
        "This is known as the Utilization Law.\n"
      ]
    },
    {
      "cell_type": "code",
      "execution_count": 42,
      "metadata": {
        "colab": {
          "base_uri": "https://localhost:8080/"
        },
        "id": "SV1T5RTnAMYm",
        "outputId": "9b404867-e793-4275-e7e6-efbf08d1f533"
      },
      "outputs": [
        {
          "name": "stdout",
          "output_type": "stream",
          "text": [
            "Throughput (X_i): 2.0\n",
            "Utilization (rho_i): 0.5\n"
          ]
        }
      ],
      "source": [
        "# Define the parameters\n",
        "mu_i = 4  # mean service rate\n",
        "rho = 0.5  # utilization\n",
        "\n",
        "# Calculate the throughput\n",
        "X_i = mu_i * rho\n",
        "\n",
        "# Print the result\n",
        "print(f\"Throughput (X_i): {X_i}\")\n",
        "\n",
        "# Calculate the utilization\n",
        "rho_i = X_i / mu_i\n",
        "\n",
        "# Print the result\n",
        "print(f\"Utilization (rho_i): {rho_i}\")\n"
      ]
    },
    {
      "cell_type": "markdown",
      "metadata": {
        "id": "UqHluZAmAio_"
      },
      "source": [
        "slide 25\n",
        "# Question: What is X?\n",
        "\n",
        "X is defined as the product of ρ and μ, i.e., X = ρ · μ. But what is ρ? We can prove that ρ = λ/μ.\n",
        "\n",
        "This is an intuitive way to see this, but not a proof!!\n",
        "\n",
        "ρ is the fraction of time the server is busy in a single-server model.\n",
        "\n",
        "Let's assume λ=1/6 (which represents the average time between arrivals) and FCFS (First Come First Serve) as the service discipline.\n",
        "\n",
        "The average service time required by a job is 1/μ and the average time between arrivals is 1/λ.\n",
        "\n",
        "So, we can express ρ as λ/μ.\n",
        "\n",
        "This leaves us with X = ρ · μ = λ/μ · μ = λ.\n",
        "\n",
        "So, the throughput does not depend on the service rate whatsoever!\n"
      ]
    },
    {
      "cell_type": "code",
      "execution_count": 26,
      "metadata": {
        "colab": {
          "base_uri": "https://localhost:8080/"
        },
        "id": "uAhLreBdBmDV",
        "outputId": "617a712d-7829-4403-ecdc-887bd7cc4788"
      },
      "outputs": [
        {
          "name": "stdout",
          "output_type": "stream",
          "text": [
            "rho: 0.5\n",
            "X: 0.16666666666666666\n"
          ]
        }
      ],
      "source": [
        "# Let's define the variables\n",
        "lambda_ = 1/6  # average time between arrivals\n",
        "mu = 1/3  # service rate\n",
        "\n",
        "# Calculate rho\n",
        "rho = lambda_ / mu\n",
        "\n",
        "# Calculate X\n",
        "X = rho * mu\n",
        "\n",
        "print(f\"rho: {rho}\")\n",
        "print(f\"X: {X}\")\n"
      ]
    },
    {
      "cell_type": "markdown",
      "metadata": {
        "id": "HjVhDu8aBxIL"
      },
      "source": [
        "slide 26\n",
        "\n",
        "# More Metrics: Throughput and Utilization\n",
        "\n",
        "Consider two systems, both having the same throughput of 1/6 jobs/sec. In the case of the faster processor, the response time drops and the queue length drops, but X (throughput) does not change. Therefore, lower response time is not related to higher throughput.\n",
        "\n",
        "Now, let's consider two systems with different values of μ (service rate). The throughput, X, is the same in both systems. Let's assume λ (arrival rate) = 1/6 for both systems.\n",
        "\n",
        "# Question: Explain why X does not change.\n",
        "\n",
        "The throughput X does not change because, irrespective of the value of μ, the completion rate is still bounded by the arrival rate: “rate in = rate out.” Changing μ affects the maximum possible X, but not the actual X. This is because we assume a stable system, then, for large t, the number of arrivals during t is approximately the number of completions during t.\n",
        "\n",
        "\n",
        "<center>\n",
        "<img width=\"300\" src=\"https://lh3.google.com/u/0/d/19RELFwJrg6chbiZohRvvkfOXJ6tiZjFg=w1860-h1548-iv1\"  alt=\"Displaying 1.jpg\" aria-hidden=\"true\">\n",
        "</center>"
      ]
    },
    {
      "cell_type": "code",
      "execution_count": 27,
      "metadata": {
        "colab": {
          "base_uri": "https://localhost:8080/"
        },
        "id": "1Uk7w9JiBlVJ",
        "outputId": "fdf67e96-6a46-4db5-db7e-7646198c0937"
      },
      "outputs": [
        {
          "name": "stdout",
          "output_type": "stream",
          "text": [
            "X for system 1: 0.16666666666666666\n",
            "X for system 2: 0.16666666666666666\n"
          ]
        }
      ],
      "source": [
        "# Let's define the variables for the two systems\n",
        "lambda_1 = 1/6  # average time between arrivals for system 1\n",
        "mu_1 = 1/3  # service rate for system 1\n",
        "\n",
        "lambda_2 = 1/6  # average time between arrivals for system 2\n",
        "mu_2 = 1/5  # service rate for system 2\n",
        "\n",
        "# Calculate X for both systems\n",
        "X_1 = min(lambda_1, mu_1)\n",
        "X_2 = min(lambda_2, mu_2)\n",
        "\n",
        "print(f\"X for system 1: {X_1}\")\n",
        "print(f\"X for system 2: {X_2}\")\n"
      ]
    },
    {
      "cell_type": "markdown",
      "metadata": {
        "id": "iIi5FxingMS3"
      },
      "source": [
        "slide 27\n",
        "\n",
        "# More Metrics: Throughput and Utilization\n",
        "\n",
        "## Example: Probabilistic Network of Queues: What is the Throughput?\n",
        "\n",
        "Let $r_i$ be the average outside arrival rate into server $i$, and $\\mu_i$ be the average service rate at server $i$.\n",
        "\n",
        "### Question: What is the system throughput, $X$, in the Figure?\n",
        "\n",
        "**Answer**: $X = \\sum_i r_i$.\n",
        "\n",
        "### Question: What is the throughput at server $i$, $X_i$?\n",
        "\n",
        "**Answer**: Let $\\lambda_i$ denote the total arrival rate into server $i$. Then $X_i = \\lambda_i$. But to get $\\lambda_i$ we need to solve the following simultaneous equations:\n",
        "\n",
        "$$\\lambda_i = r_i + \\sum_j \\lambda_j P_{ji}$$\n",
        "\n",
        "### Question: How are the $r_i$’s constrained in these equations?\n",
        "\n",
        "**Answer**: For the network to reach “equilibrium” (flow into server = flow out of server), we must have $\\lambda_i < \\mu_i$, ∀ $i$, and this constrains the $r_i$’s.\n",
        "\n",
        "\n",
        "\n",
        "<center>\n",
        "<img width=\"300\" src=\"https://lh3.google.com/u/0/d/1IqDRC6O4FiBHwPc3HmAlw3WGaU-rk2XY=w1860-h1548-iv1\"  alt=\"Displaying 1.jpg\" aria-hidden=\"true\">\n",
        "</center>\n"
      ]
    },
    {
      "cell_type": "code",
      "execution_count": 44,
      "metadata": {
        "colab": {
          "base_uri": "https://localhost:8080/"
        },
        "id": "O7PSVLuSg48r",
        "outputId": "d8c4e51a-9660-4390-f45e-96d04a3ae110"
      },
      "outputs": [
        {
          "name": "stdout",
          "output_type": "stream",
          "text": [
            "System throughput X: 21918.048614490173\n",
            "Throughput at each server Xi: [16438.52824169 17808.47751297 25753.59424531]\n"
          ]
        }
      ],
      "source": [
        "import numpy as np\n",
        "\n",
        "def solve_lambda(r, P):\n",
        "\n",
        "    n = len(r)\n",
        "    lambda_old = np.zeros(n)\n",
        "    lambda_new = r.copy()\n",
        "\n",
        "    while not np.allclose(lambda_old, lambda_new):\n",
        "        lambda_old = lambda_new.copy()\n",
        "        lambda_new = r + np.dot(P.T, lambda_old)\n",
        "\n",
        "    return lambda_new\n",
        "\n",
        "def calculate_throughput(r, mu, P):\n",
        "\n",
        "    lambda_values = solve_lambda(r, P)\n",
        "    sigma = lambda_values / mu\n",
        "\n",
        "    X = np.sum(r * sigma)\n",
        "    Xi = lambda_values\n",
        "\n",
        "    return X, Xi\n",
        "\n",
        "def check_equilibrium(r, mu):\n",
        "\n",
        "    for i in range(len(r)):\n",
        "        if r[i] >= mu[i]:\n",
        "            print(f\"Server {i} violates the equilibrium condition: r{i} >= mu{i}\")\n",
        "            return False\n",
        "    return True\n",
        "\n",
        "# Example usage\n",
        "r = np.array([0.2, 0.3, 0.1])  # Average outside arrival rates\n",
        "mu = np.array([0.5, 0.6, 0.4])  # Average service rates\n",
        "P = np.array([[0.0, 0.3, 0.7],  # Transition probability matrix\n",
        "              [0.2, 0.0, 0.8],\n",
        "              [0.5, 0.5, 0.0]])\n",
        "\n",
        "if check_equilibrium(r, mu):\n",
        "    X, Xi = calculate_throughput(r, mu, P)\n",
        "    print(f\"System throughput X: {X}\")\n",
        "    print(f\"Throughput at each server Xi: {Xi}\")\n",
        "else:\n",
        "    print(\"Network cannot reach equilibrium with the given parameters.\")"
      ]
    },
    {
      "cell_type": "markdown",
      "metadata": {
        "id": "bT6C2xZ3poL3"
      },
      "source": [
        "# More Metrics: Throughput and Utilization\n",
        "\n",
        "## Example: Network of Queues with Non-Probabilistic Routing: What is the Throughput?\n",
        "\n",
        "# Question: What is X in the Figure?\n",
        "\n",
        "The throughput of the system, denoted as X, is equal to the arrival rate λ, i.e., X = λ.\n",
        "\n",
        "# Question: What are XDisk1 and XDisk2?\n",
        "\n",
        "The throughput at Disk 1 and Disk 2, denoted as XDisk1 and XDisk2 respectively, are given by:\n",
        "\n",
        "- XDisk1 = 3λ\n",
        "- XDisk2 = 2λ\n",
        "\n",
        "\n",
        "<center>\n",
        "<img width=\"300\" src=\"https://lh3.google.com/u/0/d/10JrzXS1RnievUz9iGjf4dotLu8RYJN12=w3000-h6492-iv1\"  alt=\"Displaying 1.jpg\" aria-hidden=\"true\">\n",
        "</center>"
      ]
    },
    {
      "cell_type": "code",
      "execution_count": 45,
      "metadata": {
        "colab": {
          "base_uri": "https://localhost:8080/"
        },
        "id": "FK7hqsTQpsBw",
        "outputId": "17a83adc-0d05-45bb-c7ed-de57891f5e4a"
      },
      "outputs": [
        {
          "name": "stdout",
          "output_type": "stream",
          "text": [
            "X: 1\n",
            "XDisk1: 3\n",
            "XDisk2: 2\n"
          ]
        }
      ],
      "source": [
        "# Let's define the variables for the system\n",
        "# Note: Replace these values with your actual values\n",
        "lambda_ = 1  # arrival rate\n",
        "\n",
        "# Calculate X, XDisk1, and XDisk2\n",
        "X = lambda_\n",
        "XDisk1 = 3 * lambda_\n",
        "XDisk2 = 2 * lambda_\n",
        "\n",
        "print(f\"X: {X}\")\n",
        "print(f\"XDisk1: {XDisk1}\")\n",
        "print(f\"XDisk2: {XDisk2}\")\n"
      ]
    },
    {
      "cell_type": "markdown",
      "metadata": {
        "id": "NifwLYjyqNFr"
      },
      "source": [
        "# More Metrics: Throughput and Utilization\n",
        "\n",
        "## Example: Finite Buffer: What is the Throughput?\n",
        "\n",
        "In the given system, the outside arrival rate is denoted as `λ` and the service rate is denoted as `μ`.\n",
        "\n",
        "# Question: What is X?\n",
        "\n",
        "The throughput of the system, denoted as `X`, is given by the product of `ρ` and `μ`, i.e., X = ρμ.\n",
        "\n",
        "However, we need stochastic analysis to determine `ρ` because it is no longer simply `λ/μ`.\n",
        "\n",
        "Observe that `X` is less than `λ` because some arrivals get dropped when the buffer is full. In the given figure, the CPU has space for 9 jobs plus 1 in service.\n"
      ]
    },
    {
      "cell_type": "code",
      "execution_count": 46,
      "metadata": {
        "colab": {
          "base_uri": "https://localhost:8080/"
        },
        "id": "icoEsZzOqMwl",
        "outputId": "2dd717cc-ef8b-4b6d-9cda-d1523b47754d"
      },
      "outputs": [
        {
          "name": "stdout",
          "output_type": "stream",
          "text": [
            "X: 1.0\n"
          ]
        }
      ],
      "source": [
        "# Let's define the variables for the system\n",
        "# Note: Replace these values with your actual values\n",
        "lambda_ = 1  # arrival rate\n",
        "mu = 2  # service rate\n",
        "\n",
        "# Calculate rho\n",
        "# Note: This is a placeholder value. You'll need to perform a stochastic analysis to find the actual value of rho.\n",
        "rho = lambda_ / mu\n",
        "\n",
        "# Calculate X\n",
        "X = rho * mu\n",
        "\n",
        "print(f\"X: {X}\")\n"
      ]
    },
    {
      "cell_type": "markdown",
      "metadata": {
        "id": "TQT-Br18qvQg"
      },
      "source": [
        "slide 31 & 32\n",
        "\n",
        "\n",
        "# Closed Networks\n",
        "\n",
        "Closed queueing networks have no external arrivals or departures. There are two types of closed networks:\n",
        "\n",
        "1. **Interactive (terminal-driven)**\n",
        "2. **Batch system**\n",
        "\n",
        "## Interactive (Terminal-Driven) Systems\n",
        "\n",
        "In an interactive system, terminals (users) send a job to the \"central subsystem\" and then wait for a response. The central subsystem is a network of queues. A user cannot submit her next job before her previous job returns. Thus, the number of jobs (also known as load or MPL - multiprogramming level) in the system is fixed (equal to the number of terminals).\n",
        "\n",
        "It's important to note that the load (MPL) should not be confused with device utilization.\n",
        "\n",
        "In an interactive system, `Z` (Think time) is a random variable that denotes the time at each terminal between receiving the result of one job and sending out the next job.\n",
        "\n",
        "Note: the number of jobs in the central subsystem is at most the number of terminals, because some users might be in the \"thinking\" state.\n",
        "\n",
        "\n",
        "![image.png](data:image/png;base64,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)"
      ]
    },
    {
      "cell_type": "markdown",
      "metadata": {
        "id": "37r54OGgrfk6"
      },
      "source": [
        "# Closed Networks: Interactive (Terminal-Driven) Systems\n",
        "\n",
        "## Example: Form Submission System\n",
        "\n",
        "Consider a system with `N` users, each at a terminal filling out a form with many fields. Once all fields are filled out, the screen is submitted to the central subsystem for update. A new screen cannot be filled out until the previous update is performed.\n",
        "\n",
        "The \"think time,\" denoted as `Z`, is the time to key data to the screen. The user (terminal) alternates between thinking and waiting for the submitted job to return.\n",
        "\n",
        "In this system, the number of jobs in the system is fixed and equal to the number of terminals. This is a characteristic of a closed, interactive (terminal-driven) system.\n",
        "\n",
        "\n",
        "\n",
        "<center>\n",
        "<img width=\"300\" src=\"https://lh3.google.com/u/0/d/1LgZgdhis6yDCNR3QHLct26P_lxJN88hY=w1860-h1548-iv1\"  alt=\"Displaying 1.jpg\" aria-hidden=\"true\">\n",
        "</center>"
      ]
    },
    {
      "cell_type": "code",
      "execution_count": 48,
      "metadata": {
        "colab": {
          "base_uri": "https://localhost:8080/"
        },
        "id": "efbmCsMDrt_o",
        "outputId": "2c66b7ff-c1e7-4d9e-e14e-86fe3094b75f"
      },
      "outputs": [
        {
          "name": "stdout",
          "output_type": "stream",
          "text": [
            "User 1 is filling out the form...\n",
            "User 1's form is being processed by the central subsystem...\n",
            "User 1 has received the response and can submit a new form.\n",
            "\n",
            "User 2 is filling out the form...\n",
            "User 2's form is being processed by the central subsystem...\n",
            "User 2 has received the response and can submit a new form.\n",
            "\n",
            "User 3 is filling out the form...\n",
            "User 3's form is being processed by the central subsystem...\n",
            "User 3 has received the response and can submit a new form.\n",
            "\n",
            "User 4 is filling out the form...\n",
            "User 4's form is being processed by the central subsystem...\n",
            "User 4 has received the response and can submit a new form.\n",
            "\n",
            "User 5 is filling out the form...\n",
            "User 5's form is being processed by the central subsystem...\n",
            "User 5 has received the response and can submit a new form.\n",
            "\n",
            "User 6 is filling out the form...\n",
            "User 6's form is being processed by the central subsystem...\n",
            "User 6 has received the response and can submit a new form.\n",
            "\n",
            "User 7 is filling out the form...\n",
            "User 7's form is being processed by the central subsystem...\n",
            "User 7 has received the response and can submit a new form.\n",
            "\n",
            "User 8 is filling out the form...\n",
            "User 8's form is being processed by the central subsystem...\n",
            "User 8 has received the response and can submit a new form.\n",
            "\n",
            "User 9 is filling out the form...\n",
            "User 9's form is being processed by the central subsystem...\n",
            "User 9 has received the response and can submit a new form.\n",
            "\n",
            "User 10 is filling out the form...\n",
            "User 10's form is being processed by the central subsystem...\n",
            "User 10 has received the response and can submit a new form.\n",
            "\n",
            "All forms have been processed.\n"
          ]
        }
      ],
      "source": [
        "import time\n",
        "import random\n",
        "\n",
        "# Define the number of users (terminals)\n",
        "N = 10\n",
        "\n",
        "# Define the \"think time\" (time to fill out the form) as a random value between 1 and 3 seconds\n",
        "Z = [random.randint(1, 3) for _ in range(N)]\n",
        "\n",
        "# Define the processing time at the central subsystem as a random value between 1 and 2 seconds\n",
        "processing_time = random.randint(1, 2)\n",
        "\n",
        "# Simulation of the system\n",
        "for i in range(N):\n",
        "    # User fills out the form\n",
        "    print(f\"User {i+1} is filling out the form...\")\n",
        "    time.sleep(Z[i])  # Wait for the \"think time\"\n",
        "\n",
        "    # User submits the form to the central subsystem\n",
        "    print(f\"User {i+1}'s form is being processed by the central subsystem...\")\n",
        "    time.sleep(processing_time)  # Wait for the processing time\n",
        "\n",
        "    # User receives the response and can submit a new form\n",
        "    print(f\"User {i+1} has received the response and can submit a new form.\\n\")\n",
        "\n",
        "print(\"All forms have been processed.\")\n"
      ]
    },
    {
      "cell_type": "markdown",
      "metadata": {
        "id": "1tJ0vRovso1Y"
      },
      "source": [
        "# Closed Networks: Interactive (Terminal-Driven) Systems\n",
        "\n",
        "## Response Time\n",
        "\n",
        "The **response time** for an interactive system is defined as the time it takes a job to go from \"in\" (when it is submitted) to \"out\" (when the response is received).\n",
        "\n",
        "In mathematical notation, the expected response time is denoted as E[R], which represents the average time to get from \"in\" to \"out\".\n",
        "\n",
        "However, the expected system time, denoted as E[T], is different from E[R]. It is defined as the sum of the expected response time and the expected \"think time\" (the time a user spends thinking before submitting the next job), denoted as E[Z]. In other words,\n",
        "\n",
        "$$ E[T] = E[R] + E[Z] $$\n",
        "\n",
        "It's important to note that in open systems, T (the \"response time\") is a random variable, and is given by the sum of the expected queue time (E[TQ]) and the expected service time (E[S]). In other words,\n",
        "\n",
        "$$ E[T] = E[TQ] + E[S] $$\n",
        "\n",
        "However, in closed interactive systems, R is referred to as the response time, and we refer to T as the system time (or \"time in system\").\n"
      ]
    },
    {
      "cell_type": "code",
      "execution_count": 49,
      "metadata": {
        "colab": {
          "base_uri": "https://localhost:8080/"
        },
        "id": "6qH0oRldtZer",
        "outputId": "2af25d72-f4be-44d5-fa2a-f93820742f9e"
      },
      "outputs": [
        {
          "name": "stdout",
          "output_type": "stream",
          "text": [
            "The expected system time E[T] is 15\n"
          ]
        }
      ],
      "source": [
        "def calculate_system_time(E_R, E_Z):\n",
        "\n",
        "    E_T = E_R + E_Z\n",
        "    return E_T\n",
        "\n",
        "# Example usage:\n",
        "E_R = 10  # Expected response time\n",
        "E_Z = 5   # Expected \"think time\"\n",
        "\n",
        "E_T = calculate_system_time(E_R, E_Z)\n",
        "print(f\"The expected system time E[T] is {E_T}\")\n"
      ]
    },
    {
      "cell_type": "markdown",
      "metadata": {
        "id": "xWgy_wRZVnLE"
      },
      "source": [
        "slide 34\n",
        "# Closed Networks: Interactive (Terminal-Driven) Systems\n",
        "\n",
        "The goal of these systems is to **maximize the number of users**, while keeping their expected response time `E[R]` low.\n",
        "\n",
        "Note that interactive systems are very different from open systems in that a small change in `N` (the number of users) has a profound effect on the system behavior.\n",
        "\n",
        "The typical questions asked by systems designers are:\n",
        "\n",
        "1. Given the original system, what is the maximum `N` such that `E[R]` stays below some threshold? That is, how does `E[R]` rise with `N`?\n",
        "2. Assume a fixed multiprogramming level, `N`. Given that we can make changes to the central subsystem (i.e., make certain devices faster), which changes will improve `E[R]` the most?\n"
      ]
    },
    {
      "cell_type": "markdown",
      "metadata": {
        "id": "YxbFcVUWV7RW"
      },
      "source": [
        "slide 35\n",
        "\n",
        "# Closed Networks: Interactive (Terminal-Driven) Systems\n",
        "\n",
        "## Modeling Performance of a Website\n",
        "\n",
        "**Question**: Is a website modeled as a closed interactive system or an open system?\n",
        "\n",
        "**Answer**: There are research papers of both types.\n",
        "\n",
        "### Closed System Model\n",
        "In a **closed system model**, once a user clicks on a link (submits a job), he typically waits to receive the result before clicking on another link.\n",
        "\n",
        "### Open System Model\n",
        "In an **open system model**, a website may have a huge number of users, each of whom is very transient in his or her use of the website.\n",
        "\n",
        "### Partly-Open System\n",
        "There is also a **\"partly-open\" system** model where users arrive from outside as in an open system, but make `k` requests to the system when they arrive, where each request can only be made when the previous request completes (as in a closed system).\n",
        "\n",
        "\n",
        "<center>\n",
        "<img width=\"300\" src=\"https://lh3.google.com/u/0/d/11JpzAfC9OPtV8Hr5uCaIcpSn-HvnlBPh=w1860-h1548-iv1\"  alt=\"Displaying 1.jpg\" aria-hidden=\"true\">\n",
        "</center>"
      ]
    },
    {
      "cell_type": "markdown",
      "metadata": {
        "id": "s0eSa0ulXI2-"
      },
      "source": [
        "# Closed Networks: Batch Systems\n",
        "\n",
        "The **goal** of batch systems is to obtain high throughput, so that as many jobs as possible are completed overnight.\n",
        "\n",
        "The typical question asked by systems designers is:\n",
        "“How can we improve the central subsystem so as to maximize throughput?”\n",
        "\n",
        "We are typically constrained by some fixed maximum Multiprogramming Level (MPL) (because only so many jobs fit into memory or for some other reason). The only method to increase throughput is changing the central subsystem, either by changing the routing or by speeding up some device.\n",
        "\n",
        "**Observation**: In the batch system, we are not concerned with response times because the jobs are running overnight.\n",
        "\n",
        "**Question**: What does X mean in a closed system?\n",
        "\n",
        "**Answer**: X is the number of jobs crossing “out” per second. Note that “in” equals “out” for the batch system.\n"
      ]
    },
    {
      "cell_type": "markdown",
      "metadata": {
        "id": "fMpsDv1vXkyY"
      },
      "source": [
        "slide 38\n",
        "\n",
        "\n",
        "# Throughput in a Closed System\n",
        "\n",
        "## Example: Single Server\n",
        "\n",
        "Consider a closed network consisting of a single server.\n",
        "\n",
        "**Question**: What is the throughput, X, in the Figure?\n",
        "\n",
        "**Answer**: The throughput, X, is equal to the service rate, μ. This is very different from the case of the open network where throughput was independent of service rate!\n",
        "\n",
        "The Multiprogramming Level (MPL) is equal to the number of jobs, N.\n",
        "\n",
        "## Single-server closed network\n",
        "\n",
        "**Question**: What is the mean response time, E[R], in the Figure?\n",
        "\n",
        "**Answer**: For a closed batch system, the mean response time E[R] is equal to the mean time in system E[T], i.e., the response time and time in system are the same. In this figure, E[T] = N/μ, because every \"arrival\" waits behind N − 1 jobs and then runs.\n",
        "\n",
        "Note that X and E[R] are inversely related! Specifically, X = μ and E[R] = E[T] is proportional to N/μ.\n",
        "\n",
        "\n",
        "<center>\n",
        "<img width=\"300\" src=\"https://lh3.google.com/u/0/d/1wNmgSkH0JTjNxTyESZJnjXgTm2M1judR=w1860-h1548-iv1\"  alt=\"Displaying 1.jpg\" aria-hidden=\"true\">\n",
        "</center>\n",
        "\n"
      ]
    },
    {
      "cell_type": "code",
      "execution_count": 1,
      "metadata": {
        "colab": {
          "base_uri": "https://localhost:8080/"
        },
        "id": "R1NRefLjVlyB",
        "outputId": "4e2e4483-8050-49a8-cdc7-e5e171ad3f43"
      },
      "outputs": [
        {
          "name": "stdout",
          "output_type": "stream",
          "text": [
            "The throughput X is 2\n",
            "The mean response time E[R] is 5.0\n"
          ]
        }
      ],
      "source": [
        "def calculate_throughput(service_rate):\n",
        "    \"\"\"\n",
        "    Function to calculate the throughput X in a single-server closed network.\n",
        "    X = μ (service rate)\n",
        "\n",
        "    Parameters:\n",
        "    service_rate (float): Service rate μ\n",
        "\n",
        "    Returns:\n",
        "    X (float): Throughput\n",
        "    \"\"\"\n",
        "    X = service_rate\n",
        "    return X\n",
        "\n",
        "def calculate_response_time(N, service_rate):\n",
        "    \"\"\"\n",
        "    Function to calculate the mean response time E[R] in a single-server closed network.\n",
        "    E[R] = E[T] = N/μ\n",
        "\n",
        "    Parameters:\n",
        "    N (int): Number of jobs\n",
        "    service_rate (float): Service rate μ\n",
        "\n",
        "    Returns:\n",
        "    E_R (float): Mean response time\n",
        "    \"\"\"\n",
        "    E_R = N / service_rate\n",
        "    return E_R\n",
        "\n",
        "# Example usage:\n",
        "N = 10  # Number of jobs\n",
        "μ = 2   # Service rate\n",
        "\n",
        "X = calculate_throughput(μ)\n",
        "E_R = calculate_response_time(N, μ)\n",
        "\n",
        "print(f\"The throughput X is {X}\")\n",
        "print(f\"The mean response time E[R] is {E_R}\")\n"
      ]
    },
    {
      "cell_type": "markdown",
      "metadata": {
        "id": "S4VzfBmDYvds"
      },
      "source": [
        "# Throughput in a Closed System\n",
        "\n",
        "## Example: Tandem Servers\n",
        "\n",
        "Consider a closed network consisting of tandem servers. The Multiprogramming Level (MPL) is equal to the number of jobs, N.\n",
        "\n",
        "**Question**: What happens when N = 2? Now it appears that there is always at least one job at the slow server, doesn’t it?\n",
        "\n",
        "**Answer**: No, the slower server is still not always busy. Sometimes the slow server is faster than the fast server – since service rates are just averages! So, we do in fact need to take the job size distribution into account to get the exact answer. The job size distribution can really affect the answer.\n",
        "\n",
        "**Question**: What is the throughput?\n",
        "\n",
        "**Answer**: We may say X = min(μ1, μ2)...\n",
        "\n",
        "**Question**: Why is this previous answer not necessarily correct?\n",
        "\n",
        "**Answer**: The previous answer is correct if we know that the slower server is always busy, but that is not necessarily the case. Imagine N = 1. Then it is certainly not the case that the slower server is always busy.\n",
        "\n",
        "\n",
        "<center>\n",
        "<img width=\"300\" src=\"https://lh3.google.com/u/0/d/15KvsvHyIYSaRSQzSdQAr06zyTTqhrDFE=w1860-h1548-iv1\"  alt=\"Displaying 1.jpg\" aria-hidden=\"true\">\n",
        "</center>"
      ]
    },
    {
      "cell_type": "code",
      "execution_count": 2,
      "metadata": {
        "colab": {
          "base_uri": "https://localhost:8080/"
        },
        "id": "H8cdhYFdZdXO",
        "outputId": "c03eca4c-4185-4dfc-c4c6-1000be85b88d"
      },
      "outputs": [
        {
          "name": "stdout",
          "output_type": "stream",
          "text": [
            "The throughput X is 5\n"
          ]
        }
      ],
      "source": [
        "def calculate_throughput(service_rate1, service_rate2, N):\n",
        "    \"\"\"\n",
        "    Function to calculate the throughput X in a tandem servers closed network.\n",
        "\n",
        "    Parameters:\n",
        "    service_rate1 (float): Service rate μ1 of the first server\n",
        "    service_rate2 (float): Service rate μ2 of the second server\n",
        "    N (int): Number of jobs\n",
        "\n",
        "    Returns:\n",
        "    X (float): Throughput\n",
        "    \"\"\"\n",
        "    if N == 1:\n",
        "        X = min(service_rate1, service_rate2)\n",
        "    else:\n",
        "        X = service_rate1 if service_rate1 < service_rate2 else service_rate2\n",
        "    return X\n",
        "\n",
        "# Example usage:\n",
        "μ1 = 10  # Service rate of the first server\n",
        "μ2 = 5   # Service rate of the second server\n",
        "N = 2    # Number of jobs\n",
        "\n",
        "X = calculate_throughput(μ1, μ2, N)\n",
        "print(f\"The throughput X is {X}\")\n"
      ]
    }
  ],
  "metadata": {
    "colab": {
      "provenance": []
    },
    "kernelspec": {
      "display_name": "Python 3",
      "name": "python3"
    },
    "language_info": {
      "name": "python"
    }
  },
  "nbformat": 4,
  "nbformat_minor": 0
}
